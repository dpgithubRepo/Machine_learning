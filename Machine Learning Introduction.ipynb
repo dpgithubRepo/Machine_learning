{
 "cells": [
  {
   "cell_type": "markdown",
   "metadata": {},
   "source": [
    "# When Traditional Programming Fails\n",
    "\n",
    "Consider a basic example of classifying ham and spam emails. If this has to be done in a traditional programming way, we need to write a rule-based engine for classification. For example, the Programmer will have to write a code to check if there is a particular string in the mail content and also keep a count of it and if that particular text/string count crosses a certain number in the mail then the rule classifies the mail as spam. \n",
    "\n",
    "Let us consider the text which is written in the rule is 'Amazing offer' and the rule works well and classifies the mail as spam if the text appears in the mail for a certain number of times.\n",
    "\n",
    "At a later point, the spammer may change the text 'Amazing offer' to 'Amazing off3r' then the rules engine will fail to classify such mails as spam. For the programmer to handle this kind of issues he has to maintain a huge list of texts which fall under spam....\n",
    "\n",
    "This is a very basic example discussed to understand the issue with Traditional programming for such tasks, but this complexity is not so simple as discussed above. \n",
    "\n",
    "Consider the example of speech recognition, with the traditional programming techniques if you want to identify a speech recognition of words 'one','two' then we can have a simple rule mapping the speech to a number. But if you need to map a hundred words and identify then the rules become big and if there is a need to map thousands of words to numbers then it is impossible.\n",
    "\n",
    "Similarly, if it comes to image and video processing then the traditional programming falls flat. Having said that Traditional programming has its own importance and can never be underlooked or neglected"
   ]
  },
  {
   "cell_type": "markdown",
   "metadata": {},
   "source": [
    "# Machine Learning"
   ]
  },
  {
   "cell_type": "markdown",
   "metadata": {},
   "source": [
    "__Definitions__\n",
    "\n",
    "Field of study that gives the computer the ability to learn with out being explicitly programmed ~Arthur Samuel\n",
    "\n",
    "A Computer program said to learn from Experience E with respect to Task T and Performance P, if the Performance P improves on Task T with Experience E ~Tom Mitchell"
   ]
  },
  {
   "cell_type": "markdown",
   "metadata": {},
   "source": [
    "Following are the very few basic examples of Machine Learning that had become part of our day to day life\n",
    "\n",
    "1. Spam Mail classifier\n",
    "2. Forecasting Ride Fare by the Cab service provider\n",
    "3. Recommendation on e-commerce shopping site\n",
    "4. Weather predictions\n",
    "5. Stock price predictions\n",
    "6. Email - Auto respond text\n",
    "7. Speech Recognition applications like Siri, Alexa, etc"
   ]
  },
  {
   "cell_type": "markdown",
   "metadata": {},
   "source": [
    "# Broad Classification\n",
    "\n",
    "ML Can be broadly classified to following types\n",
    "\n",
    "1. Supervised Learning\n",
    "2. Unsupervised Learning\n",
    "3. Reinforcement Learning\n",
    "4. Recommender Systems"
   ]
  },
  {
   "cell_type": "markdown",
   "metadata": {},
   "source": [
    "# Supervised Learning \n",
    "\n",
    "In this type of learning the data set contains the values to be predicted along with other features and models learns from this data.\n",
    "\n",
    "Following are few Supervised learning examples\n",
    "\n",
    "1. A spam mail classifier is trained with data set which contains mails and also the correct labels for it (spam or not)\n",
    "2. A housing price predictor will be trained with data set containing the house features and the price of the house\n",
    "3. To forecast the stock prices, the model will be trained on the data set containing the stock prices as well.\n",
    "\n",
    "The following image illustrates the Supervised learning, where the data set had mails that were labeled as either ham or spam. Once the model learns from this data set then it would be later tested to predict on the data which doesn't have a label based on the Experience E it had during the training\n",
    "\n",
    "In a nut shell, the supervised learning will have the data set containing the value to be predicted/forecasted as part of training data based on which the model learns or get trained"
   ]
  },
  {
   "cell_type": "markdown",
   "metadata": {},
   "source": [
    "<img src='supervised_learning.png' />"
   ]
  },
  {
   "cell_type": "markdown",
   "metadata": {},
   "source": [
    "The following illustrates one more example of Supervised learning, where we have the data related to the housing price. The data set contains the dimension of the house in sqft and the sale price. In this dataset, the sale price is the target value or the value to be predicted. Since it is supervised learning the training data will already have the target price and the model gets trained on this data set and later the model will perform on the test data and predict the sale price \n",
    "\n",
    "In the following, the green points represent the training data with x-value indicating the sqft of the house and the y-axis representing the sale price of the house. Once the model is trained on this data, then it can be used to predict the sale price of the house represented by the red point on x-axis based on the dimension of the house in sqft"
   ]
  },
  {
   "cell_type": "markdown",
   "metadata": {},
   "source": [
    "<img src='hosuing_supervised.png'  width='380' height='280'/>"
   ]
  },
  {
   "cell_type": "markdown",
   "metadata": {},
   "source": [
    "If the examples quoted above are observed, the first one just classifies mail as spam or ham and the second one predicts the value of the house(continuous value). Based on this the Supervised learning can be further classified as \n",
    "\n",
    "__1. Classification__ : This falls under the category of supervised learning where the model classifies the test data to one of the classes. The above example of mail is a binary classification since there are only two classes 0 or 1. 0 can be considered as not-spam or ham and 1 considered as spam. There can be a multi-class classification problem as well. For example predicting the grades of the student in an exam grades being one among to A, B, C, D, etc\n",
    "\n",
    "__2. Regression__ : Regression is also kind of Supervised learning where the model predicts the value. In the above example, the housing price is predicted. Forecasting the stock price, predicting the avg marks of a student, etc falls under the Regression problems\n",
    "\n",
    "__Note__: The value which we predict is often called as target/dependent/label variable and usually denoted as y. The other features /columns in data set other than y they are called independent variables or features or predictors. In the above example the house dimension is an independent variable whereas the price is the dependent variable"
   ]
  },
  {
   "cell_type": "markdown",
   "metadata": {},
   "source": [
    "# Unsupervised Learning"
   ]
  },
  {
   "cell_type": "markdown",
   "metadata": {},
   "source": [
    "In this class of Unsupervised Learning, there are no dependent or independent variables or labels to predict. Unsupervised learning finds the patterns in the data and arranges them in groups called clusters.\n",
    "\n",
    "Following are the few examples of Unsupervised Learning\n",
    "\n",
    "1. Grouping the news articles of the same story \n",
    "2. Grouping the customers into different segments\n",
    "\n",
    "\n",
    "The following shows the clustering done on a dataset. The Unsupervised learning algorithm groups the data based on the patterns and segments them"
   ]
  },
  {
   "cell_type": "markdown",
   "metadata": {},
   "source": [
    " <img src=clustering.png />"
   ]
  },
  {
   "cell_type": "markdown",
   "metadata": {},
   "source": [
    "The following are some of the use cases where clustering can be used.\n",
    "\n",
    "1. If a supermarket store can cluster/group their customers to various buckets, then the promotional offers can be targeted in an efficient way to the customers based on the group they belong to and can improve the sales\n",
    "\n",
    "2. Clustering the patients based on their health conditions will help to give effective medications\n",
    "\n",
    "3. By grouping the datasets to clusters the anomalies can be figured out. For example, identifying a fraudulent transaction\n",
    "\n",
    "4. Search result grouping, similar to the news article grouping discussed earlier \n",
    "\n",
    "5. This kind of unsupervised learning techniques can be applied on a dataset, get the clusters and further application of supervised learning and training the model cluster wise can improve the performance of the supervised learning as well. So for supervised  learning, Unsupervised learning can be a pre-step \n",
    "\n"
   ]
  },
  {
   "cell_type": "markdown",
   "metadata": {},
   "source": [
    "# Supervised Algorithms\n",
    "\n",
    "Following are some of the important Supervised algorithms\n",
    "\n",
    "1. K-Nearest Neighbors\n",
    "2. Linear Regression\n",
    "3. Logistic Regression\n",
    "4. Support Vector Machine (SVM)\n",
    "5. Decision Tree & Random Forest\n",
    "6. Neural Networks"
   ]
  },
  {
   "cell_type": "markdown",
   "metadata": {},
   "source": [
    "# Unsupervised Algorithms\n",
    "\n",
    "Following are some of the important Unupervised algorithms\n",
    "\n",
    "1. K-Means Clustering\n",
    "2. DBSCAN\n",
    "3. Hierarchial Clustering\n",
    "4. One Class SVM\n",
    "5. Isolation Forest\n",
    "6. PCA (Principal Component Analysis)\n"
   ]
  },
  {
   "cell_type": "markdown",
   "metadata": {},
   "source": [
    "# Semisupervised Learning \n",
    "\n",
    "There are some algorithms that can learn where the data is partially labeled. Usually, these algorithms operate using both supervised and unsupervised learning techniques. Labeling the data is a very expensive process and Semisupervised learning can come to rescue for such cases and can use the partially labeled data and learn accordingly.\n",
    "\n",
    "Examples of Semisupervised Learning are \n",
    "1. Internet content classification\n",
    "2. Person recognition. Usually, once the photo or few photos are tagged to a person and later whenever there are further uploads the algorithm can recognize the person\n",
    "\n",
    "In the above examples, since it becomes tedious for labeling all the web pages or label all the photos the Semisupervised learning is very useful in such scenarios"
   ]
  },
  {
   "cell_type": "markdown",
   "metadata": {},
   "source": [
    "There are also classification based on other aspects like kind of learning __Batch learning vs online Learning__ and also \n",
    "__Instance based learning vs Model based learning__"
   ]
  },
  {
   "cell_type": "markdown",
   "metadata": {},
   "source": [
    "# Batch Learning \n",
    "This is also called offline learning, in this mode of learning the model can't learn on new data online. Every time there is new data then the model must be trained from scratch on the whole data or in batches.\n",
    "\n",
    "# Online Learning\n",
    "These models can incrementally learn on the new data. This data may be fed to the model individually or in small batches. Since the learning happens incrementally on smaller data, this kind of model can be trained with huge dataset without facing any memory issues. Once the model is trained on a batch of data, that data can be disposed and is not required further whereas batch learning has limitations on memory as the dataset size increases"
   ]
  }
 ],
 "metadata": {
  "kernelspec": {
   "display_name": "Python 3",
   "language": "python",
   "name": "python3"
  },
  "language_info": {
   "codemirror_mode": {
    "name": "ipython",
    "version": 3
   },
   "file_extension": ".py",
   "mimetype": "text/x-python",
   "name": "python",
   "nbconvert_exporter": "python",
   "pygments_lexer": "ipython3",
   "version": "3.7.3"
  }
 },
 "nbformat": 4,
 "nbformat_minor": 2
}
